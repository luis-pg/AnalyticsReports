{
 "cells": [
  {
   "attachments": {},
   "cell_type": "markdown",
   "metadata": {},
   "source": [
    "# Analytics Report"
   ]
  },
  {
   "attachments": {},
   "cell_type": "markdown",
   "metadata": {},
   "source": [
    "### Connect to API: https://developers.hmecloud.com/#tag/Requests "
   ]
  },
  {
   "cell_type": "code",
   "execution_count": 1,
   "metadata": {},
   "outputs": [
    {
     "ename": "ModuleNotFoundError",
     "evalue": "No module named 'requests'",
     "output_type": "error",
     "traceback": [
      "\u001b[1;31m---------------------------------------------------------------------------\u001b[0m",
      "\u001b[1;31mModuleNotFoundError\u001b[0m                       Traceback (most recent call last)",
      "\u001b[1;32mc:\\Users\\LSPZ\\OneDrive - GFT Technologies SE\\Desktop\\Projects\\230219 Analytics Report\\AnalyticsReports\\analytics_report.ipynb Cell 3\u001b[0m in \u001b[0;36m<cell line: 2>\u001b[1;34m()\u001b[0m\n\u001b[0;32m      <a href='vscode-notebook-cell:/c%3A/Users/LSPZ/OneDrive%20-%20GFT%20Technologies%20SE/Desktop/Projects/230219%20Analytics%20Report/AnalyticsReports/analytics_report.ipynb#W2sZmlsZQ%3D%3D?line=0'>1</a>\u001b[0m \u001b[39m# Connect to API: https://developers.hmecloud.com/#tag/Requests \u001b[39;00m\n\u001b[1;32m----> <a href='vscode-notebook-cell:/c%3A/Users/LSPZ/OneDrive%20-%20GFT%20Technologies%20SE/Desktop/Projects/230219%20Analytics%20Report/AnalyticsReports/analytics_report.ipynb#W2sZmlsZQ%3D%3D?line=1'>2</a>\u001b[0m \u001b[39mimport\u001b[39;00m \u001b[39mrequests\u001b[39;00m\n\u001b[0;32m      <a href='vscode-notebook-cell:/c%3A/Users/LSPZ/OneDrive%20-%20GFT%20Technologies%20SE/Desktop/Projects/230219%20Analytics%20Report/AnalyticsReports/analytics_report.ipynb#W2sZmlsZQ%3D%3D?line=2'>3</a>\u001b[0m \u001b[39mimport\u001b[39;00m \u001b[39mjson\u001b[39;00m\n\u001b[0;32m      <a href='vscode-notebook-cell:/c%3A/Users/LSPZ/OneDrive%20-%20GFT%20Technologies%20SE/Desktop/Projects/230219%20Analytics%20Report/AnalyticsReports/analytics_report.ipynb#W2sZmlsZQ%3D%3D?line=3'>4</a>\u001b[0m url \u001b[39m=\u001b[39m \u001b[39m'\u001b[39m\u001b[39mhttps://dxs.hmecloud.com/api/rcd/report?StartDateTime=2023-02-01T00:00:00.000&EndDateTime=2023-02-19T19T13:00:00.000&Limit=1000&Offset=0\u001b[39m\u001b[39m'\u001b[39m\n",
      "\u001b[1;31mModuleNotFoundError\u001b[0m: No module named 'requests'"
     ]
    }
   ],
   "source": [
    "# Connect to API: https://developers.hmecloud.com/#tag/Requests \n",
    "import requests\n",
    "import json\n",
    "url = 'https://dxs.hmecloud.com/api/rcd/report?StartDateTime=2023-02-01T00:00:00.000&EndDateTime=2023-02-19T19T13:00:00.000&Limit=1000&Offset=0'\n",
    "print(response_API.status_code)\n",
    "# response_API = requests.get()\n",
    "# data = response_API.text\n",
    "# json.loads(data)"
   ]
  }
 ],
 "metadata": {
  "kernelspec": {
   "display_name": "Python 3",
   "language": "python",
   "name": "python3"
  },
  "language_info": {
   "codemirror_mode": {
    "name": "ipython",
    "version": 3
   },
   "file_extension": ".py",
   "mimetype": "text/x-python",
   "name": "python",
   "nbconvert_exporter": "python",
   "pygments_lexer": "ipython3",
   "version": "3.9.13"
  },
  "orig_nbformat": 4,
  "vscode": {
   "interpreter": {
    "hash": "11938c6bc6919ae2720b4d5011047913343b08a43b18698fd82dedb0d4417594"
   }
  }
 },
 "nbformat": 4,
 "nbformat_minor": 2
}
