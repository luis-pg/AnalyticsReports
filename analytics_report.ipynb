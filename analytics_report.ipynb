{
 "cells": [
  {
   "attachments": {},
   "cell_type": "markdown",
   "metadata": {},
   "source": [
    "# Analytics Report"
   ]
  },
  {
   "attachments": {},
   "cell_type": "markdown",
   "metadata": {},
   "source": [
    "### Connect to API: https://developers.hmecloud.com/#tag/Requests "
   ]
  },
  {
   "cell_type": "code",
   "execution_count": null,
   "metadata": {},
   "outputs": [],
   "source": [
    "import requests\n",
    "import json"
   ]
  },
  {
   "cell_type": "code",
   "execution_count": 10,
   "metadata": {},
   "outputs": [
    {
     "name": "stdout",
     "output_type": "stream",
     "text": [
      "200\n"
     ]
    }
   ],
   "source": [
    "# Connect to API:\n",
    "url = 'https://api.tvmaze.com/singlesearch/shows'\n",
    "params = {\"q\":\"girls\"}\n",
    "response = requests.get(url,params)\n",
    "print(response.status_code)"
   ]
  },
  {
   "cell_type": "code",
   "execution_count": 11,
   "metadata": {},
   "outputs": [
    {
     "name": "stdout",
     "output_type": "stream",
     "text": [
      "{\"id\":139,\"url\":\"https://www.tvmaze.com/shows/139/girls\",\"name\":\"Girls\",\"type\":\"Scripted\",\"language\":\"English\",\"genres\":[\"Drama\",\"Romance\"],\"status\":\"Ended\",\"runtime\":30,\"averageRuntime\":30,\"premiered\":\"2012-04-15\",\"ended\":\"2017-04-16\",\"officialSite\":\"http://www.hbo.com/girls\",\"schedule\":{\"time\":\"22:00\",\"days\":[\"Sunday\"]},\"rating\":{\"average\":6.7},\"weight\":97,\"network\":{\"id\":8,\"name\":\"HBO\",\"country\":{\"name\":\"United States\",\"code\":\"US\",\"timezone\":\"America/New_York\"},\"officialSite\":\"https://www.hbo.com/\"},\"webChannel\":null,\"dvdCountry\":null,\"externals\":{\"tvrage\":30124,\"thetvdb\":220411,\"imdb\":\"tt1723816\"},\"image\":{\"medium\":\"https://static.tvmaze.com/uploads/images/medium_portrait/31/78286.jpg\",\"original\":\"https://static.tvmaze.com/uploads/images/original_untouched/31/78286.jpg\"},\"summary\":\"<p>This Emmy winning series is a comic look at the assorted humiliations and rare triumphs of a group of girls in their 20s.</p>\",\"updated\":1611310521,\"_links\":{\"self\":{\"href\":\"https://api.tvmaze.com/shows/139\"},\"previousepisode\":{\"href\":\"https://api.tvmaze.com/episodes/1079686\"}}}\n"
     ]
    }
   ],
   "source": [
    "print(response.text)"
   ]
  },
  {
   "cell_type": "code",
   "execution_count": 13,
   "metadata": {},
   "outputs": [],
   "source": [
    "data = response.text\n",
    "data = json.loads(data)\n",
    "name = data['name']\n",
    "premiered = data['premiered']\n",
    "summary = data['summary']"
   ]
  },
  {
   "cell_type": "code",
   "execution_count": 14,
   "metadata": {},
   "outputs": [
    {
     "data": {
      "text/plain": [
       "'Girls'"
      ]
     },
     "execution_count": 14,
     "metadata": {},
     "output_type": "execute_result"
    }
   ],
   "source": [
    "name"
   ]
  }
 ],
 "metadata": {
  "kernelspec": {
   "display_name": "Python 3",
   "language": "python",
   "name": "python3"
  },
  "language_info": {
   "codemirror_mode": {
    "name": "ipython",
    "version": 3
   },
   "file_extension": ".py",
   "mimetype": "text/x-python",
   "name": "python",
   "nbconvert_exporter": "python",
   "pygments_lexer": "ipython3",
   "version": "3.10.8"
  },
  "orig_nbformat": 4,
  "vscode": {
   "interpreter": {
    "hash": "40b45b5a124b08a65a532be704edfad389711fc963c0a54fb9a3ea8b21000f30"
   }
  }
 },
 "nbformat": 4,
 "nbformat_minor": 2
}
